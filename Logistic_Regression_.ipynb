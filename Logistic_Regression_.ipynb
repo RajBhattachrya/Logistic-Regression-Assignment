{
  "nbformat": 4,
  "nbformat_minor": 0,
  "metadata": {
    "colab": {
      "provenance": [],
      "collapsed_sections": [
        "F90RWl5ZOREp"
      ]
    },
    "kernelspec": {
      "name": "python3",
      "display_name": "Python 3"
    },
    "language_info": {
      "name": "python"
    }
  },
  "cells": [
    {
      "cell_type": "markdown",
      "source": [
        "# Theoretical"
      ],
      "metadata": {
        "id": "VjLrKBuaOLNX"
      }
    },
    {
      "cell_type": "markdown",
      "source": [
        "**1.What is Logistic Regression, and how does it differ from Linear Regression?**\n",
        "ans-What Is Logistic Regression?\n",
        "Logistic regression is a classification algorithm used when your target variable is categorical, typically binary (e.g., yes/no, spam/not spam, pass/fail).\n",
        "- Instead of predicting a continuous value, it estimates the probability that a given input belongs to a category.\n",
        "- The output is bound between 0 and 1 thanks to the sigmoid function, which maps any value into a probability space.\n",
        "\n",
        "Sigmoid Function Formula: [ \\sigma(z) = \\frac{1}{1 + e^{-z}} ]\n",
        "\n",
        "Where ( z ) is the linear combination of input features.\n",
        "\n",
        "Core Difference\n",
        "\n",
        "- Linear Regression predicts a continuous numeric outcome (like price, income, or temperature).\n",
        "- Logistic Regression predicts a categorical outcome, usually binary (like “yes/no”, “spam/not spam”).\n",
        "\n",
        "\n",
        "\n"
      ],
      "metadata": {
        "id": "oPV4MI6y6BcI"
      }
    },
    {
      "cell_type": "markdown",
      "source": [
        "**2.What is the mathematical equation of Logistic Regression?**\n",
        "\n",
        "ans-\n",
        "* Logistic Regression Equation\n",
        " - Linear component:\n",
        "[ z = \\beta_0 + \\beta_1x_1 + \\beta_2x_2 + \\dots + \\beta_nx_n ]This is similar to what you'd see in linear regression — it's just a weighted sum of features.\n",
        " - Sigmoid (Logistic) function:\n",
        "[ p = \\frac{1}{1 + e^{-z}} = \\frac{1}{1 + e^{-(\\beta_0 + \\beta_1x_1 + \\dots + \\beta_nx_n)}} ]This transforms the linear output ( z ) into a probability ( p ), wh\n",
        "\n"
      ],
      "metadata": {
        "id": "siWfen0j6BfF"
      }
    },
    {
      "cell_type": "markdown",
      "source": [
        "**3.Why do we use the Sigmoid function in Logistic Regression?**\n",
        "\n",
        "ans-\n",
        "* Purpose of the Sigmoid Function:\n",
        "\n",
        "The sigmoid transforms any real-valued input into a number between 0 and 1, which makes it perfect for probability estimation. In logistic regression, we’re not just predicting a value—we’re predicting the likelihood that something belongs to a category (like “yes” vs “no”).\n",
        "\n",
        "* Mathematical Form\n",
        "[ \\sigma(z) = \\frac{1}{1 + e^{-z}} ]\n",
        "  - Here, ( z = \\beta_0 + \\beta_1x_1 + \\beta_2x_2 + \\dots + \\beta_nx_n )\n",
        "  - ( \\sigma(z) ) gives us the probability that the outcome belongs to class 1.\n",
        "\n",
        "\n",
        "\n",
        "\n",
        "\n"
      ],
      "metadata": {
        "id": "c30TtXiv6Bhs"
      }
    },
    {
      "cell_type": "markdown",
      "source": [
        "**4.What is the cost function of Logistic Regression?**\n",
        "\n",
        "ans-Cost Function: Log Loss / Cross-Entropy Loss\n",
        "Here’s how it looks mathematically for a single training example:\n",
        "[ \\text{Cost} = -\\left[ y \\cdot \\log(\\hat{y}) + (1 - y) \\cdot \\log(1 - \\hat{y}) \\right] ]\n",
        "- ( y ): Actual label (either 0 or 1)\n",
        "- ( \\hat{y} ): Predicted probability from the sigmoid function\n",
        "\n",
        "For multiple samples (say ( m ) examples):\n",
        "[ J(\\theta) = -\\frac{1}{m} \\sum_{i=1}{(i)} \\log(\\hat{y}{(i)}) \\log(1 - \\hat{y}^{(i)}) \\right] ]\n"
      ],
      "metadata": {
        "id": "rSbtub3Y6BkF"
      }
    },
    {
      "cell_type": "markdown",
      "source": [
        "**5.What is Regularization in Logistic Regression? Why is it needed?**\n",
        "\n",
        "ans-What Is Regularization?\n",
        "Regularization is a technique to control model complexity in logistic regression (or any machine learning model). It adds a penalty to the cost function to discourage the model from relying too heavily on large coefficients, which often leads to overfitting.\n",
        "\n",
        "Regularized Cost Function (L2 Example)\n",
        "\n",
        "Here’s how it modifies the original logistic regression cost:\n",
        "\n",
        "[ J(\\theta) = \\underbrace{-\\frac{1}{m} \\sum_{i=1}{(i)} \\log(\\hat{y}{(i)}) \\log(1 - \\hat{y}{n} \\theta_j^2}_{\\text{Regularization penalty}} ]\n",
        "- ( \\lambda ): Regularization strength (higher → stronger penalty)\n",
        "- ( \\theta_j ): Coefficients of the model (excluding bias ( \\theta_0 ))\n",
        "\n",
        "\n",
        "Why Is It Needed?\n",
        "- Prevents overfitting by discouraging overly complex models that memorize the data\n",
        "-  Improves generalization so the model performs better on unseen data\n",
        "-  Promotes sparsity when using L1 regularization (Lasso), effectively removing irrelevant features\n"
      ],
      "metadata": {
        "id": "7mU0mkIH6Bmn"
      }
    },
    {
      "cell_type": "markdown",
      "source": [
        "**6.Explain the difference between Lasso, Ridge, and Elastic Net regression?**\n",
        "\n",
        "ans-Absolutely, RAJ! Here’s a line-by-line comparison of Ridge, Lasso, and Elastic Net regression techniques to keep things sharp and clear:\n",
        "\n",
        "- Penalty Type:\n",
        " - Ridge uses L2 (squared coefficients)\n",
        " - Lasso uses L1 (absolute coefficients)\n",
        " - Elastic Net combines both L1 and L2 penalties\n",
        "\n",
        "- Penalty Formula:\n",
        " - Ridge: ( \\lambda \\sum \\theta_j^2 )\n",
        " - Lasso: ( \\lambda \\sum \\theta_j )\n",
        " - Elastic Net: ( \\lambda_1 \\sum \\theta_j + \\lambda_2 \\sum \\theta_j^2 )\n",
        "\n",
        "- Effect on Coefficients:\n",
        " - Ridge shrinks them toward zero\n",
        " - Lasso can shrink some to exactly zero\n",
        " - Elastic Net shrinks and selects (some go to zero, others just reduce)\n",
        "\n",
        "- Feature Selection Ability:\n",
        " - Ridge keeps all features\n",
        " - Lasso automatically removes irrelevant ones\n",
        " - Elastic Net balances both—keeps key ones, discards noise\n",
        "\n",
        "- Multicollinearity Handling:\n",
        " - Ridge handles it well\n",
        " - Lasso may struggle with highly correlated features\n",
        " - Elastic Net is designed to work well in multicollinearity situations\n",
        "\n",
        "- Best Use Case:\n",
        " - Ridge: when all features contribute a bit\n",
        " - Lasso: when only a few are important\n",
        " - Elastic Net: when there are many correlated features and sparsity matters\n",
        "\n"
      ],
      "metadata": {
        "id": "R7TwYmvq6Bo8"
      }
    },
    {
      "cell_type": "markdown",
      "source": [
        "**7.When should we use Elastic Net instead of Lasso or Ridge?**\n",
        "\n",
        "ans-When to Choose Elastic Net\n",
        "* High Dimensional Data: When you have more features than observations, Elastic Net shines by balancing complexity and generalization.\n",
        "\n",
        "* Correlated Predictors: Ridge handles multicollinearity well, but doesn’t zero out coefficients. Lasso might randomly select one feature from a group of correlated ones. Elastic Net combines both—shrinks coefficients while retaining groups of correlated features.\n",
        "\n",
        "* Sparse but Stable Models: If you're aiming for some feature selection (like Lasso) without compromising model stability (like Ridge), Elastic Net offers a smooth compromise.\n",
        "\n",
        "* Balance Between L1 and L2 Penalties: You can fine-tune the mixing parameter l1_ratio to adjust the influence of Lasso vs. Ridge. Useful when neither alone gives satisfying results."
      ],
      "metadata": {
        "id": "kXJH_jjD6BrE"
      }
    },
    {
      "cell_type": "markdown",
      "source": [
        "**8.What is the impact of the regularization parameter (λ) in Logistic Regression?**\n",
        "\n",
        "ans-\n",
        "**What λ Does in Logistic Regression**\n",
        "\n",
        "Whether you're using L1 (Lasso) or L2 (Ridge) regularization, the regularization term is added to the loss function to penalize large coefficients. This helps the model generalize better to unseen data.\n",
        "\n",
        "- Small λ (close to 0)- The penalty is small, so the model can fit the training data closely\n",
        "- Risk of overfitting increases\n",
        "- Coefficients tend to be larger\n",
        "\n",
        "- Large λ- The penalty is strong, which forces the coefficients to shrink toward zero\n",
        "- Helps prevent overfitting but might underfit if too large\n",
        "- Model becomes simpler, potentially ignoring some features\n",
        "\n",
        "\n",
        "\n",
        "\n"
      ],
      "metadata": {
        "id": "exl5tiAo6BtH"
      }
    },
    {
      "cell_type": "markdown",
      "source": [
        "**9.What are the key assumptions of Logistic Regression.?**\n",
        "\n",
        "ans-**Key Assumptions in Logistic Regression**\n",
        "\n",
        "- Binary Outcome (or Multiclass with Extensions)- Standard logistic regression models a binary dependent variable (e.g. success/failure, yes/no).\n",
        "- For multiclass problems, use Multinomial Logistic Regression.\n",
        "\n",
        "- Independence of Observations- Each observation should be independent of the others.\n",
        "- Violations (like repeated measures on individuals) may require mixed models.\n",
        "\n",
        "- No (or Minimal) Multicollinearity- Predictor variables shouldn't be highly correlated.\n",
        "- You can use Variance Inflation Factor (VIF) to diagnose and handle it.\n",
        "\n",
        "- Linearity of Logit (Not of the Outcome)- The logit transformation of the outcome (i.e. log odds) should have a linear relationship with the predictors.\n",
        "- Try plotting each feature against the log odds, or using Box-Tidwell test.\n",
        "\n",
        "- Large Sample Size- Logistic regression relies on maximum likelihood estimation, which benefits from more data.\n",
        "- Especially important when predictors are numerous or categories are imbalanced.\n",
        "\n",
        "- No Outliers with Strong Influence- Outliers can distort the fit; use standardized residuals, Cook’s distance, or Leverage stats to identify them.\n",
        "\n",
        "\n",
        "\n",
        "\n"
      ],
      "metadata": {
        "id": "QLc1BR_37f1l"
      }
    },
    {
      "cell_type": "markdown",
      "source": [
        "**10.What are some alternatives to Logistic Regression for classification task?**\n",
        "\n",
        "ans-\n",
        "1. Model: Decision Trees\n",
        "\n",
        "Key Strengths: Easy to interpret, handles non-linear boundaries ➤ You can visualize how decisions are made—great for understanding rules in your data.\n",
        "\n",
        "Best Use Case: Small datasets, clear decision rules ➤ Ideal if you want transparency in how predictions are made and your data isn’t too complex.\n",
        "\n",
        "2. Model: Random Forests\n",
        "\n",
        "Key Strengths: Reduces overfitting via ensemble averaging ➤ Combines many trees to create a more robust model, helping smooth out noisy predictions.\n",
        "\n",
        "Best Use Case: Large feature spaces, noisy data ➤ Useful when there are many variables and data variability—helps generalize better.\n",
        "\n",
        "3. Model: Gradient Boosting (e.g., XGBoost)\n",
        "\n",
        "Key Strengths: High accuracy, handles complex relationships ➤ Builds models sequentially to focus on tough-to-predict cases—great for squeezing out performance.\n",
        "\n",
        "Best Use Case: Kaggle-style datasets, model competitions ➤ Dominates when you're optimizing performance in structured datasets.\n",
        "\n",
        "4. Model: K-Nearest Neighbors (KNN)\n",
        "\n",
        "Key Strengths: Simple, non-parametric ➤ No training phase—makes predictions by comparing similarity to known data points.\n",
        "\n",
        "Best Use Case: Highly irregular decision boundaries ➤ Handy when the classes are not easily separable using linear boundaries.\n",
        "\n",
        "5. Model: Support Vector Machines (SVM)\n",
        "\n",
        "Key Strengths: Works well in high-dimensional spaces, robust to overfitting ➤ Finds the best margin between classes and supports kernels for non-linear data.\n",
        "\n",
        "Best Use Case: Text data, small to medium datasets ➤ Often excels in document classification or cases with many features and few samples.\n",
        "\n",
        "6. Model: Naive Bayes\n",
        "\n",
        "Key Strengths: Fast, performs well on categorical features ➤ Assumes feature independence; surprisingly powerful for simple applications.\n",
        "\n",
        "Best Use Case: Text classification, spam filtering ➤ Despite its simplicity, it’s often the baseline winner in NLP tasks."
      ],
      "metadata": {
        "id": "JoYWAhF87gNY"
      }
    },
    {
      "cell_type": "markdown",
      "source": [
        "**11.What are Classification Evaluation Metrics?**\n",
        "\n",
        "ans-Classification Evaluation Metrics are tools used to measure how well a classification model performs—especially when you're predicting categories like spam vs. not spam, or high vs. low churn risk.\n",
        "\n",
        "Here’s a breakdown of the key metrics and what they tell you:\n",
        "\n",
        "* 1. Accuracy\n",
        "\n",
        " * What it is: The ratio of correct predictions to total predictions.\n",
        "\n",
        " * Best when: Classes are balanced.\n",
        "\n",
        " * Formula: $$ \\text{Accuracy} = \\frac{TP + TN}{TP + TN + FP + FN} $$\n",
        "\n",
        "* 2. Precision\n",
        "\n",
        " * What it is: Of all the items predicted as positive, how many were actually positive?\n",
        "\n",
        " * Use case: Important in cases where false positives are costly (like predicting diseases).\n",
        "\n",
        " * Formula: $$ \\text{Precision} = \\frac{TP}{TP + FP} $$\n",
        "\n",
        "* 3. Recall (Sensitivity or True Positive Rate)\n",
        "\n",
        " * What it is: Of all actual positives, how many did we correctly predict?\n",
        "\n",
        " * Use case: Vital when missing a positive case is risky (like fraud detection).\n",
        "\n",
        " * Formula: $$ \\text{Recall} = \\frac{TP}{TP + FN} $$\n",
        "\n",
        "* 4. F1 Score\n",
        "\n",
        " * What it is: Harmonic mean of precision and recall.\n",
        "\n",
        " * Use case: Balanced measure when classes are imbalanced.\n",
        "\n",
        " * Formula: $$ \\text{F1 Score} = 2 \\times \\frac{\\text{Precision} \\times \\text{Recall}}{\\text{Precision} + \\text{Recall}} $$\n",
        "\n",
        "* 5. ROC-AUC Score (Receiver Operating Characteristic - Area Under Curve)\n",
        "\n",
        " * What it is: Measures how well the model separates the classes.\n",
        "\n",
        " * Use case: Great for comparing multiple models.\n",
        "\n",
        "* 6. Confusion Matrix\n",
        "\n",
        " * What it is: A table showing TP, TN, FP, and FN counts.\n",
        "\n",
        " * Use case: Gives a detailed snapshot of prediction performance."
      ],
      "metadata": {
        "id": "OWA4wutFATLd"
      }
    },
    {
      "cell_type": "markdown",
      "source": [
        "**12.How does class imbalance affect Logistic Regression?**\n",
        "\n",
        "ans-Impact of Class Imbalance\n",
        "\n",
        "* Biased Predictions: The model tends to favor the majority class since it's \"seen\" more during training. You might get high accuracy, but very poor recall on the minority class.\n",
        "\n",
        "* Misleading Accuracy: Say 95% of your samples belong to class A and only 5% to class B. If your model predicts class A every time, it’ll show 95% accuracy but totally miss the minority class—bad news if class B is something critical like fraud detection.\n",
        "\n",
        "* Poor Recall & Precision for Minority Class: Especially harmful when the minority class is what you're trying to detect.\n",
        "\n"
      ],
      "metadata": {
        "id": "50LsYd1MATeN"
      }
    },
    {
      "cell_type": "markdown",
      "source": [
        "**13.What is Hyperparameter Tuning in Logistic Regression?**\n",
        "\n",
        "ans-Hyperparameter Tuning in Logistic Regression means finding the best settings that control how the model learns—not the parameters learned during training (like coefficients), but the ones you set beforehand to guide the process.\n",
        "\n",
        "**Tuning Strategies**\n",
        "\n",
        "1. Grid Search (GridSearchCV)\n",
        "\n",
        " * Test all combinations of hyperparameters.\n",
        "\n",
        " * Great for thorough exploration, though a bit time-consuming.\n",
        "\n",
        "2. Random Search (RandomizedSearchCV)\n",
        "\n",
        " * Randomly sample combinations.\n",
        "\n",
        " * Faster and good for large search spaces.\n",
        "\n",
        "3. Bayesian Optimization (e.g. Optuna, Hyperopt)\n",
        "\n",
        " * More efficient, smarter exploration.\n",
        "\n",
        " * Learns from past trials to suggest better hyperparameter combos."
      ],
      "metadata": {
        "id": "XEPD1jojAThV"
      }
    },
    {
      "cell_type": "markdown",
      "source": [
        "**14.What are different solvers in Logistic Regression? Which one should be used?**\n",
        "\n",
        "ans-\n",
        "\n",
        "1. liblinear → Uses coordinate descent optimization. → Supports both L1 and L2 regularization. → Only supports One-vs-Rest for multiclass problems. → Best for small datasets and when L1 regularization is needed.\n",
        "\n",
        "2. lbfgs → Uses a quasi-Newton method (BFGS approximation). → Supports only L2 regularization. → Supports both multinomial and One-vs-Rest for multiclass. → Best for large datasets and multiclass classification.\n",
        "\n",
        "3. newton-cg → Uses the Newton-Raphson method with second-order derivatives. → Supports only L2 regularization. → Supports both multinomial and One-vs-Rest for multiclass. → Best when you want precise optimization and can afford more computation.\n",
        "\n",
        "4. sag → Uses Stochastic Average Gradient descent. → Supports only L2 regularization. → Supports both multinomial and One-vs-Rest for multiclass. → Best for large datasets with sparse features.\n",
        "\n",
        "5. saga → An improved version of SAG that supports more regularization. → Supports L1, L2, and Elastic Net regularization. → Supports both multinomial and One-vs-Rest for multiclass. → Best for large datasets, especially with L1 or Elastic Net.\n",
        "\n",
        "\n",
        "**-Which Solver Should we Use?**\n",
        "-  Use liblinear for binary classification on small, clean datasets.\n",
        "-  Use saga when working with sparse or large-scale data, or if you need L1 regularization.\n",
        "-  Use lbfgs when your data is dense, and you don’t need L1 penalty.\n",
        "-  Use newton-cg if you're doing multiclass classification with many classes.\n",
        "-  Avoid sag if your data isn’t large enough—its advantage really shines on big datasets.\n",
        "\n",
        "\n",
        "\n"
      ],
      "metadata": {
        "id": "8LKvIYrkATj8"
      }
    },
    {
      "cell_type": "markdown",
      "source": [
        "**15. How is Logistic Regression extended for multiclass classification?**\n",
        "\n",
        "ans-\n",
        "* One-vs-Rest (OvR) — Default Strategy\n",
        " * Concept: The model builds one binary classifier per class, treating that class as “positive” and all others as “negative.”\n",
        "\n",
        " * Prediction: For a new input, all classifiers are evaluated, and the one with the highest confidence wins.\n",
        "\n",
        " * Pros: Simple and efficient. Works well when classes are not highly imbalanced.\n",
        "\n",
        "* Multinomial Logistic Regression\n",
        " * Concept: Uses a softmax function to compute probabilities across all classes simultaneously.\n",
        "\n",
        " * Prediction: Assigns class with the highest probability.\n",
        "\n",
        " * Pros: Models the mutual exclusivity between classes more accurately.\n",
        "\n",
        " * Solver Required: Use lbfgs, newton-cg, or saga (not liblinear).\n"
      ],
      "metadata": {
        "id": "ZRng2DtNATmk"
      }
    },
    {
      "cell_type": "markdown",
      "source": [
        "**16.What are the advantages and disadvantages of Logistic Regression?**\n",
        "\n",
        "ans-\n",
        "* Advantages of Logistic Regression\n",
        "\n",
        " * Easy to Interpret You get clear insights into how each feature affects the probability of an outcome via coefficients.\n",
        "\n",
        " * Low Computational Cost Fast to train—even on large datasets—and doesn’t demand heavy hardware.\n",
        "\n",
        " * Works Well for Linearly Separable Data If the classes can be separated with a straight line (or plane), it performs beautifully.\n",
        "\n",
        " * Probability Output Returns probabilities, which are handy for ranking predictions or applying thresholds.\n",
        "\n",
        " * Regularization Options Supports L1, L2, and ElasticNet penalties to prevent overfitting.\n",
        "\n",
        " * Handles Multiclass Problems Extendable via OvR or multinomial strategies.\n",
        "\n",
        "* Disadvantages of Logistic Regression\n",
        "\n",
        " * Linear Decision Boundary Can’t capture complex relationships unless you engineer nonlinear features or use polynomial terms.\n",
        "\n",
        " * Struggles with Multicollinearity Correlated features can distort interpretations. (Though your growing skills in checking VIFs and using PCA help!)\n",
        "\n",
        " * Sensitive to Outliers Extreme values may bias predictions and coefficients.\n",
        "\n",
        " *  Assumes Independence of Observations Not ideal for time-series or hierarchical data without preprocessing.\n",
        "\n",
        " * Performance Drops with Class Imbalance Unless you apply sampling techniques or tweak class_weight."
      ],
      "metadata": {
        "id": "3Yiuim1XATpF"
      }
    },
    {
      "cell_type": "markdown",
      "source": [
        "**17.What are some use cases of Logistic Regression?**\n",
        "\n",
        "ans-\n",
        "1. Medical Diagnosis\n",
        " * Use: Predicting whether a patient has a disease (e.g. diabetes: yes/no).\n",
        "\n",
        " * Why it fits: Outputs probabilities, allowing threshold adjustments for sensitivity.\n",
        "\n",
        "2. Credit Scoring / Default Prediction\n",
        " * Use: Assessing whether someone is likely to default on a loan.\n",
        "\n",
        " * Why it fits: Transparent coefficients help explain risk factors like income, age, or credit history.\n",
        "\n",
        "3. Spam Detection\n",
        " * Use: Classifying emails as spam or not spam based on text and metadata.\n",
        "\n",
        " * Why it fits: Fast and interpretable, especially for keyword-based features.\n",
        "\n",
        "4. Customer Churn Prediction\n",
        " * Use: Predicting whether a customer is likely to leave a service.\n",
        "\n",
        " * Why it fits: Simple enough to deploy quickly and explain to business teams.\n",
        "\n",
        "5. Clinical Trial Success\n",
        " * Use: Estimating whether a new treatment will succeed based on trial data.\n",
        "\n",
        " * Why it fits: Works well with binary outcomes and small datasets."
      ],
      "metadata": {
        "id": "Fue032B8ATs0"
      }
    },
    {
      "cell_type": "markdown",
      "source": [
        "**18.What is the difference between Softmax Regression and Logistic Regression?**\n",
        "\n",
        "ans-\n",
        "\n",
        "**Logistic Regression: Binary Classifier**\n",
        "\n",
        "* Task: Predicts between two classes (e.g., spam vs. not spam).\n",
        "\n",
        "* Activation Function: Uses the sigmoid function $$ \\sigma(z) = \\frac{1}{1 + e^{-z}} $$\n",
        "\n",
        "* Output: Single probability (between 0 and 1) for the positive class.\n",
        "\n",
        "* Decision Rule: If probability > threshold (e.g. 0.5), classify as positive.\n",
        "\n",
        "**Softmax Regression: Multiclass Classifier**\n",
        "\n",
        "* Task: Handles more than two classes (e.g., cat vs. dog vs. rabbit).\n",
        "\n",
        "* Activation Function: Uses the softmax function $$ P(y = k) = \\frac{e^{z_k}}{\\sum_{j} e^{z_j}} $$\n",
        "\n",
        "* Output: A probability distribution across all classes.\n",
        "\n",
        "* Decision Rule: Choose the class with the highest probability."
      ],
      "metadata": {
        "id": "IUA7Y77WBO-N"
      }
    },
    {
      "cell_type": "markdown",
      "source": [
        "**19. How do we choose between One-vs-Rest (OvR) and Softmax for multiclass classification?**\n",
        "\n",
        "ans\n",
        "\n",
        "* Use OvR When:\n",
        " * You want model simplicity and interpretability.\n",
        "\n",
        " * Your dataset is small or mildly imbalanced.\n",
        "\n",
        " * You’re using a solver like liblinear and sticking to binary-friendly methods.\n",
        "\n",
        "* Use Softmax When:\n",
        " * Your goal is mutually exclusive class assignment (e.g., predicting one product category).\n",
        "\n",
        " * You care about comparative probabilities between classes.\n",
        "\n",
        " * Your solver supports multinomial loss (e.g. lbfgs, saga) and your dataset is rich."
      ],
      "metadata": {
        "id": "xQL557emBPBr"
      }
    },
    {
      "cell_type": "markdown",
      "source": [
        "**20.How do we interpret coefficients in Logistic Regression?**\n",
        "\n",
        "ans-In Logistic Regression, interpreting coefficients means understanding how each feature influences the odds of the predicted class—just not quite the same way as in linear regression. Here's a step-by-step guide to making sense of them:\n",
        "\n",
        "**What the Coefficients Represent**\n",
        "\n",
        "* Each coefficient\n",
        "𝛽\n",
        "𝑖\n",
        " shows the change in log-odds of the outcome for a one-unit increase in feature\n",
        "𝑥\n",
        "𝑖\n",
        ", holding other features constant.\n",
        "\n",
        "* The logistic model equation: $$ \\text{log}\\left(\\frac{p}{1 - p}\\right) = \\beta_0 + \\beta_1 x_1 + \\beta_2 x_2 + \\dots + \\beta_n x_n $$\n",
        "\n",
        "**Convert to Odds Ratio**\n",
        "To make it more intuitive, convert coefficients to odds ratios:\n",
        "\n",
        "* Interpretation:\n",
        "\n",
        " * If\n",
        "Odds Ratio\n",
        ">\n",
        "1\n",
        ": Feature increases odds of positive class.\n",
        "\n",
        " * If Odds Ratio< 1: Feature decreases odds of positive class.\n",
        "\n",
        " * If\n",
        "Odds Ratio\n",
        "=\n",
        "1\n",
        ": No effect."
      ],
      "metadata": {
        "id": "3CVgeuQiBPFu"
      }
    },
    {
      "cell_type": "markdown",
      "source": [
        "# Practical"
      ],
      "metadata": {
        "id": "F90RWl5ZOREp"
      }
    },
    {
      "cell_type": "markdown",
      "source": [
        "**1.Write a Python program that loads a dataset, splits it into training and testing sets, applies Logistic\n",
        "Regression, and prints the model accuracy**"
      ],
      "metadata": {
        "id": "Uf9LimcZOcwr"
      }
    },
    {
      "cell_type": "code",
      "source": [
        "# Importing necessary libraries\n",
        "from sklearn.datasets import load_iris\n",
        "from sklearn.model_selection import train_test_split\n",
        "from sklearn.linear_model import LogisticRegression\n",
        "from sklearn.metrics import accuracy_score\n",
        "\n",
        "# Load the dataset\n",
        "iris = load_iris()\n",
        "X = iris.data\n",
        "y = iris.target\n",
        "\n",
        "\n",
        "# Split into training and testing sets\n",
        "X_train, X_test, y_train, y_test = train_test_split(X, y, test_size=0.3, random_state=42)\n",
        "\n",
        "# Initialize and train the Logistic Regression model\n",
        "model = LogisticRegression()\n",
        "model.fit(X_train, y_train)\n",
        "\n",
        "# Make predictions and evaluate accuracy\n",
        "y_pred = model.predict(X_test)\n",
        "accuracy = accuracy_score(y_test, y_pred)\n",
        "\n",
        "print(f\"Logistic Regression Model Accuracy: {accuracy:}\")"
      ],
      "metadata": {
        "colab": {
          "base_uri": "https://localhost:8080/"
        },
        "id": "IashxkjhObhA",
        "outputId": "6fb73882-e2c4-4a57-82b0-e1892c61fb77"
      },
      "execution_count": null,
      "outputs": [
        {
          "output_type": "stream",
          "name": "stdout",
          "text": [
            "Logistic Regression Model Accuracy: 1.0\n"
          ]
        }
      ]
    },
    {
      "cell_type": "markdown",
      "source": [
        "**2.Write a Python program to apply L1 regularization (Lasso) on a dataset using LogisticRegression(penalty='l1')\n",
        "and print the model accuracy**"
      ],
      "metadata": {
        "id": "cSrr1Tj2QRuS"
      }
    },
    {
      "cell_type": "code",
      "source": [
        "# Importing necessary libraries\n",
        "from sklearn.datasets import load_iris\n",
        "from sklearn.model_selection import train_test_split\n",
        "from sklearn.linear_model import LogisticRegression\n",
        "from sklearn.metrics import accuracy_score\n",
        "import warnings\n",
        "\n",
        "# Suppress warnings for cleaner output\n",
        "warnings.filterwarnings('ignore')\n",
        "\n",
        "# Load the dataset\n",
        "iris = load_iris()\n",
        "X = iris.data\n",
        "y = iris.target!=2\n",
        "\n",
        "# Split the data\n",
        "X_train, X_test, y_train, y_test = train_test_split(X, y, test_size=0.3, random_state=1)\n",
        "\n",
        "# Apply Logistic Regression with L1 penalty\n",
        "model = LogisticRegression(penalty='l1', solver='liblinear')  # liblinear supports L1\n",
        "model.fit(X_train, y_train)\n",
        "\n",
        "# Predict and evaluate\n",
        "y_pred = model.predict(X_test)\n",
        "accuracy = accuracy_score(y_test, y_pred)\n",
        "\n",
        "print(f\"L1-Regularized Logistic Regression Accuracy: {accuracy:.2f}\")"
      ],
      "metadata": {
        "colab": {
          "base_uri": "https://localhost:8080/"
        },
        "id": "4NdbJVD5QOed",
        "outputId": "ef9a1836-22a8-4d55-a2f2-c3a3b40164f7"
      },
      "execution_count": null,
      "outputs": [
        {
          "output_type": "stream",
          "name": "stdout",
          "text": [
            "L1-Regularized Logistic Regression Accuracy: 0.96\n"
          ]
        }
      ]
    },
    {
      "cell_type": "markdown",
      "source": [
        "**3.Write a Python program to train Logistic Regression with L2 regularization (Ridge) using\n",
        "LogisticRegression(penalty='l2'). Print model accuracy and coefficients**"
      ],
      "metadata": {
        "id": "c4kJ3KzKTjli"
      }
    },
    {
      "cell_type": "code",
      "source": [
        "\n",
        "# Import necessary libraries\n",
        "from sklearn.datasets import load_iris\n",
        "from sklearn.model_selection import train_test_split\n",
        "from sklearn.linear_model import LogisticRegression\n",
        "from sklearn.metrics import accuracy_score\n",
        "import pandas as pd\n",
        "\n",
        "# Load the dataset\n",
        "iris = load_iris()\n",
        "X = iris.data\n",
        "y = iris.target != 2\n",
        "\n",
        "# Split into training and testing sets\n",
        "X_train, X_test, y_train, y_test = train_test_split(X, y, test_size=0.3, random_state=42)\n",
        "\n",
        "# Train Logistic Regression with L2 regularization\n",
        "model = LogisticRegression(penalty='l2', solver='liblinear')  # liblinear supports L2 as well\n",
        "model.fit(X_train, y_train)\n",
        "\n",
        "# Predict and evaluate\n",
        "y_pred = model.predict(X_test)\n",
        "accuracy = accuracy_score(y_test, y_pred)\n",
        "\n",
        "# Print results\n",
        "print(f\"L2-Regularized Logistic Regression Accuracy: {accuracy:.2f}\")\n",
        "print(\"\\nModel Coefficients:\")\n",
        "coefficients = pd.Series(model.coef_[0], index=iris.feature_names)\n",
        "print(coefficients)\n",
        "\n",
        "\n"
      ],
      "metadata": {
        "colab": {
          "base_uri": "https://localhost:8080/"
        },
        "id": "g2ABhcvlTU3k",
        "outputId": "1635806a-4e59-4f87-999f-b6e5791dc291"
      },
      "execution_count": null,
      "outputs": [
        {
          "output_type": "stream",
          "name": "stdout",
          "text": [
            "L2-Regularized Logistic Regression Accuracy: 1.00\n",
            "\n",
            "Model Coefficients:\n",
            "sepal length (cm)    1.528642\n",
            "sepal width (cm)     1.432447\n",
            "petal length (cm)   -2.304828\n",
            "petal width (cm)    -2.085845\n",
            "dtype: float64\n"
          ]
        }
      ]
    },
    {
      "cell_type": "markdown",
      "source": [
        "**4.Write a Python program to train Logistic Regression with Elastic Net Regularization (penalty='elasticnet')**"
      ],
      "metadata": {
        "id": "e6GYFL9QVtf9"
      }
    },
    {
      "cell_type": "code",
      "source": [
        "import numpy as np\n",
        "from sklearn.datasets import make_classification\n",
        "from sklearn.linear_model import LogisticRegression\n",
        "from sklearn.model_selection import train_test_split\n",
        "from sklearn.preprocessing import StandardScaler\n",
        "from sklearn.metrics import accuracy_score\n",
        "\n",
        "# Generate synthetic classification dataset\n",
        "X, y = make_classification(n_samples=1000, n_features=20, n_informative=15,n_redundant=5,random_state=1)\n",
        "\n",
        "# Split into train and test sets\n",
        "X_train, X_test, y_train, y_test = train_test_split(X, y,test_size=0.2,random_state=1)\n",
        "\n",
        "# Scale the features\n",
        "scaler = StandardScaler()\n",
        "X_train_scaled = scaler.fit_transform(X_train)\n",
        "X_test_scaled = scaler.transform(X_test)\n",
        "\n",
        "# Create and train Logistic Regression model with Elastic Net\n",
        "model = LogisticRegression(penalty='elasticnet',\n",
        "                           solver='saga',       # Required for 'elasticnet'\n",
        "                           l1_ratio=0.5,        # Balance between L1 & L2 (0 = L2, 1 = L1)\n",
        "                           C=1.0,               # Regularization strength (inverse)\n",
        "                           max_iter=1000,       # Increase if model doesn't converge\n",
        "                           random_state=1)\n",
        "\n",
        "model.fit(X_train_scaled, y_train)\n",
        "\n",
        "# Evaluate the model\n",
        "y_pred = model.predict(X_test_scaled)\n",
        "accuracy = accuracy_score(y_test, y_pred)\n",
        "\n",
        "print(f\"Test Accuracy: {accuracy:.2f}\")"
      ],
      "metadata": {
        "id": "tHoENo4wVpv6",
        "colab": {
          "base_uri": "https://localhost:8080/"
        },
        "outputId": "e50bb88a-e36f-416e-b094-61df2378e6e8"
      },
      "execution_count": null,
      "outputs": [
        {
          "output_type": "stream",
          "name": "stdout",
          "text": [
            "Test Accuracy: 0.86\n"
          ]
        }
      ]
    },
    {
      "cell_type": "markdown",
      "source": [
        "**5.Write a Python program to train a Logistic Regression model for multiclass classification using\n",
        "multi_class='ovr'**"
      ],
      "metadata": {
        "id": "PzolwbCSCB2y"
      }
    },
    {
      "cell_type": "code",
      "source": [
        "import numpy as np\n",
        "from sklearn.datasets import load_iris\n",
        "from sklearn.linear_model import LogisticRegression\n",
        "from sklearn.multiclass import OneVsRestClassifier\n",
        "from sklearn.model_selection import train_test_split\n",
        "from sklearn.preprocessing import StandardScaler\n",
        "from sklearn.metrics import accuracy_score, classification_report\n",
        "\n",
        "# Load the dataset\n",
        "iris = load_iris()\n",
        "X = iris.data\n",
        "y = iris.target\n",
        "\n",
        "# Split the data\n",
        "X_train, X_test, y_train, y_test = train_test_split(X, y,\n",
        "                                                    test_size=0.2,\n",
        "                                                    random_state=42,\n",
        "                                                    stratify=y)\n",
        "\n",
        "# Standardize features\n",
        "scaler = StandardScaler()\n",
        "X_train = scaler.fit_transform(X_train)\n",
        "X_test = scaler.transform(X_test)\n",
        "\n",
        "# Wrap Logistic Regression in OneVsRestClassifier\n",
        "\n",
        "ovr_model = OneVsRestClassifier(LogisticRegression(solver='lbfgs', max_iter=500, random_state=42))\n",
        "\n",
        "# Train the model\n",
        "ovr_model.fit(X_train, y_train)\n",
        "\n",
        "# Predict and evaluate\n",
        "y_pred = ovr_model.predict(X_test)\n",
        "print(f\"Test Accuracy: {accuracy_score(y_test, y_pred):.2f}\")\n",
        "print(\"\\nClassification Report:\\n\")\n",
        "print(classification_report(y_test, y_pred))"
      ],
      "metadata": {
        "colab": {
          "base_uri": "https://localhost:8080/"
        },
        "id": "zhasrJTpB-sE",
        "outputId": "bed6ed40-0711-47df-cd1b-9d456b43f6cd"
      },
      "execution_count": null,
      "outputs": [
        {
          "output_type": "stream",
          "name": "stdout",
          "text": [
            "Test Accuracy: 0.90\n",
            "\n",
            "Classification Report:\n",
            "\n",
            "              precision    recall  f1-score   support\n",
            "\n",
            "           0       1.00      1.00      1.00        10\n",
            "           1       0.89      0.80      0.84        10\n",
            "           2       0.82      0.90      0.86        10\n",
            "\n",
            "    accuracy                           0.90        30\n",
            "   macro avg       0.90      0.90      0.90        30\n",
            "weighted avg       0.90      0.90      0.90        30\n",
            "\n"
          ]
        }
      ]
    },
    {
      "cell_type": "markdown",
      "source": [
        "**6.Write a Python program to apply GridSearchCV to tune the hyperparameters (C and penalty) of Logistic\n",
        "Regression. Print the best parameters and accuracy**"
      ],
      "metadata": {
        "id": "4lKT2gLeEVeE"
      }
    },
    {
      "cell_type": "code",
      "source": [
        "import numpy as np\n",
        "from sklearn.datasets import load_iris\n",
        "from sklearn.model_selection import train_test_split, GridSearchCV\n",
        "from sklearn.preprocessing import StandardScaler\n",
        "from sklearn.linear_model import LogisticRegression\n",
        "from sklearn.metrics import accuracy_score\n",
        "\n",
        "# Load the dataset\n",
        "iris = load_iris()\n",
        "X = iris.data\n",
        "y = iris.target\n",
        "\n",
        "\n",
        "# Split the data\n",
        "X_train, X_test, y_train, y_test = train_test_split(X, y,\n",
        "                                                    test_size=0.2,\n",
        "                                                    random_state=42,\n",
        "                                                    stratify=y)\n",
        "\n",
        "# Feature scaling\n",
        "scaler = StandardScaler()\n",
        "X_train = scaler.fit_transform(X_train)\n",
        "X_test = scaler.transform(X_test)\n",
        "\n",
        "# Define parameter grid (split into groups to avoid l1_ratio warning)\n",
        "param_grid = [\n",
        "    {'penalty': ['l1'], 'C': [0.01, 0.1, 1, 10]},\n",
        "    {'penalty': ['l2'], 'C': [0.01, 0.1, 1, 10]},\n",
        "    {'penalty': ['elasticnet'], 'C': [0.01, 0.1, 1, 10], 'l1_ratio': [0.3, 0.5, 0.7]}\n",
        "]\n",
        "\n",
        "# Create Logistic Regression model with saga solver\n",
        "model = LogisticRegression(solver='saga', max_iter=1000)\n",
        "\n",
        "# Apply GridSearchCV\n",
        "grid = GridSearchCV(model, param_grid, cv=5, scoring='accuracy', n_jobs=-1)\n",
        "grid.fit(X_train, y_train)\n",
        "\n",
        "# Output best parameters and accuracy\n",
        "print(\"Best Parameters:\", grid.best_params_)\n",
        "y_pred = grid.predict(X_test)\n",
        "print(f\"Test Accuracy: {accuracy_score(y_test, y_pred):.2f}\")"
      ],
      "metadata": {
        "colab": {
          "base_uri": "https://localhost:8080/"
        },
        "id": "aF4lVAcSEU_D",
        "outputId": "536f973c-f3c9-442a-c1ff-e6845aed1e2e"
      },
      "execution_count": null,
      "outputs": [
        {
          "output_type": "stream",
          "name": "stdout",
          "text": [
            "Best Parameters: {'C': 0.1, 'penalty': 'l1'}\n",
            "Test Accuracy: 0.90\n"
          ]
        }
      ]
    },
    {
      "cell_type": "markdown",
      "source": [
        "**7.Write a Python program to evaluate Logistic Regression using Stratified K-Fold Cross-Validation. Print the\n",
        "average accuracy**"
      ],
      "metadata": {
        "id": "7qhNkazdHtp0"
      }
    },
    {
      "cell_type": "code",
      "source": [
        "import numpy as np\n",
        "from sklearn.datasets import load_iris\n",
        "from sklearn.linear_model import LogisticRegression\n",
        "from sklearn.model_selection import StratifiedKFold\n",
        "from sklearn.preprocessing import StandardScaler\n",
        "from sklearn.metrics import accuracy_score\n",
        "\n",
        "# Load dataset\n",
        "iris = load_iris()\n",
        "X = iris.data\n",
        "y = iris.target\n",
        "\n",
        "# Standardize features\n",
        "scaler = StandardScaler()\n",
        "X = scaler.fit_transform(X)\n",
        "\n",
        "# Set up Stratified K-Fold\n",
        "skf = StratifiedKFold(n_splits=5, shuffle=True, random_state=42)\n",
        "\n",
        "# Initialize model\n",
        "model = LogisticRegression(solver='lbfgs', max_iter=1000)\n",
        "\n",
        "accuracies = []\n",
        "\n",
        "# Perform stratified K-fold cross-validation\n",
        "for train_index, test_index in skf.split(X, y):\n",
        "    X_train, X_test = X[train_index], X[test_index]\n",
        "    y_train, y_test = y[train_index], y[test_index]\n",
        "\n",
        "    model.fit(X_train, y_train)\n",
        "    y_pred = model.predict(X_test)\n",
        "    acc = accuracy_score(y_test, y_pred)\n",
        "    accuracies.append(acc)\n",
        "\n",
        "# Print average accuracy\n",
        "avg_accuracy = np.mean(accuracies)\n",
        "print(f\"Average Accuracy across folds: {avg_accuracy:.2f}\")"
      ],
      "metadata": {
        "colab": {
          "base_uri": "https://localhost:8080/"
        },
        "id": "r_2ueuU3HngX",
        "outputId": "9225892e-bd99-499b-baa5-13f640d3ae09"
      },
      "execution_count": null,
      "outputs": [
        {
          "output_type": "stream",
          "name": "stdout",
          "text": [
            "Average Accuracy across folds: 0.95\n"
          ]
        }
      ]
    },
    {
      "cell_type": "markdown",
      "source": [
        "**8.Write a Python program to load a dataset from a CSV file, apply Logistic Regression, and evaluate its\n",
        "accuracy.**"
      ],
      "metadata": {
        "id": "aGBjJKASLz5L"
      }
    },
    {
      "cell_type": "code",
      "source": [
        "import pandas as pd\n",
        "from sklearn.model_selection import train_test_split\n",
        "from sklearn.preprocessing import StandardScaler\n",
        "from sklearn.linear_model import LogisticRegression\n",
        "from sklearn.metrics import accuracy_score\n",
        "\n",
        "# Load CSV data\n",
        "data = pd.read_csv('dataset.csv')\n",
        "\n",
        "# Separate features and target\n",
        "X = data.drop('target', axis=1)\n",
        "y = data['target']\n",
        "\n",
        "# Split into training and test sets\n",
        "X_train, X_test, y_train, y_test = train_test_split(X, y,\n",
        "                                                    test_size=0.2,\n",
        "                                                    random_state=42,\n",
        "                                                    stratify=y)\n",
        "\n",
        "# Feature scaling\n",
        "scaler = StandardScaler()\n",
        "X_train_scaled = scaler.fit_transform(X_train)\n",
        "X_test_scaled = scaler.transform(X_test)\n",
        "\n",
        "# Train Logistic Regression model\n",
        "model = LogisticRegression(solver='lbfgs', max_iter=1000)\n",
        "model.fit(X_train_scaled, y_train)\n",
        "\n",
        "# Predict and evaluate\n",
        "y_pred = model.predict(X_test_scaled)\n",
        "accuracy = accuracy_score(y_test, y_pred)\n",
        "\n",
        "print(f\"Test Accuracy: {accuracy:.2f}\")"
      ],
      "metadata": {
        "id": "kgrJVqnfJeOy"
      },
      "execution_count": null,
      "outputs": []
    },
    {
      "cell_type": "markdown",
      "source": [
        "**9.Write a Python program to apply RandomizedSearchCV for tuning hyperparameters (C, penalty, solver) in\n",
        "Logistic Regression. Print the best parameters and accuracy?**"
      ],
      "metadata": {
        "id": "nqc1LGyWNtK8"
      }
    },
    {
      "cell_type": "code",
      "source": [
        "import numpy as np\n",
        "from sklearn.datasets import load_wine\n",
        "from sklearn.model_selection import train_test_split, RandomizedSearchCV\n",
        "from sklearn.preprocessing import StandardScaler\n",
        "from sklearn.linear_model import LogisticRegression\n",
        "from sklearn.metrics import accuracy_score\n",
        "from scipy.stats import loguniform\n",
        "\n",
        "# Load dataset\n",
        "wine = load_wine()\n",
        "X = wine.data\n",
        "y = wine.target\n",
        "\n",
        "# Train-test split\n",
        "X_train, X_test, y_train, y_test = train_test_split(X, y,\n",
        "                                                    test_size=0.2,\n",
        "                                                    random_state=42,\n",
        "                                                    stratify=y)\n",
        "\n",
        "# Feature scaling\n",
        "scaler = StandardScaler()\n",
        "X_train_scaled = scaler.fit_transform(X_train)\n",
        "X_test_scaled = scaler.transform(X_test)\n",
        "\n",
        "# Define the model\n",
        "model = LogisticRegression(max_iter=1000)\n",
        "\n",
        "# Define hyperparameter search space\n",
        "param_dist = {\n",
        "    'C': loguniform(0.01, 10),             # Continuous range for regularization strength\n",
        "    'penalty': ['l1', 'l2', 'elasticnet'], # Penalty types\n",
        "    'solver': ['saga'],                    # 'saga' supports all penalties\n",
        "    'l1_ratio': [0.3, 0.5, 0.7]            # Only used for 'elasticnet'\n",
        "}\n",
        "\n",
        "# Set up RandomizedSearchCV\n",
        "search = RandomizedSearchCV(model, param_distributions=param_dist,\n",
        "                            n_iter=20, cv=5, scoring='accuracy',\n",
        "                            random_state=42, n_jobs=-1)\n",
        "\n",
        "# Fit the search\n",
        "search.fit(X_train_scaled, y_train)\n",
        "\n",
        "# Evaluate\n",
        "best_params = search.best_params_\n",
        "y_pred = search.predict(X_test_scaled)\n",
        "accuracy = accuracy_score(y_test, y_pred)\n",
        "\n",
        "# Print results\n",
        "print(\"Best Parameters:\", best_params)\n",
        "print(f\"Test Accuracy: {accuracy:.2f}\")"
      ],
      "metadata": {
        "colab": {
          "base_uri": "https://localhost:8080/"
        },
        "id": "kHm1l1ZXQiMv",
        "outputId": "afa43f23-69e7-4855-a942-a769db670902"
      },
      "execution_count": null,
      "outputs": [
        {
          "output_type": "stream",
          "name": "stdout",
          "text": [
            "Best Parameters: {'C': np.float64(0.13292918943162169), 'l1_ratio': 0.3, 'penalty': 'elasticnet', 'solver': 'saga'}\n",
            "Test Accuracy: 1.00\n"
          ]
        }
      ]
    },
    {
      "cell_type": "markdown",
      "source": [
        "**10.Write a Python program to implement One-vs-One (OvO) Multiclass Logistic Regression and print accuracy**"
      ],
      "metadata": {
        "id": "TBobIiNQQlY_"
      }
    },
    {
      "cell_type": "code",
      "source": [
        "import numpy as np\n",
        "from sklearn.datasets import load_wine\n",
        "from sklearn.model_selection import train_test_split\n",
        "from sklearn.preprocessing import StandardScaler\n",
        "from sklearn.linear_model import LogisticRegression\n",
        "from sklearn.multiclass import OneVsOneClassifier\n",
        "from sklearn.metrics import accuracy_score\n",
        "\n",
        "# Load the Wine dataset\n",
        "wine = load_wine()\n",
        "X = wine.data\n",
        "y = wine.target\n",
        "\n",
        "# Split into train and test sets\n",
        "X_train, X_test, y_train, y_test = train_test_split(X, y,\n",
        "                                                    test_size=0.2,\n",
        "                                                    random_state=42,\n",
        "                                                    stratify=y)\n",
        "\n",
        "# Standardize the features\n",
        "scaler = StandardScaler()\n",
        "X_train_scaled = scaler.fit_transform(X_train)\n",
        "X_test_scaled = scaler.transform(X_test)\n",
        "\n",
        "# Define the Logistic Regression base model\n",
        "base_model = LogisticRegression(solver='lbfgs', max_iter=1000)\n",
        "\n",
        "# Wrap with One-vs-One strategy\n",
        "ovo_model = OneVsOneClassifier(base_model)\n",
        "\n",
        "# Train the OvO classifier\n",
        "ovo_model.fit(X_train_scaled, y_train)\n",
        "\n",
        "# Predict and evaluate\n",
        "y_pred = ovo_model.predict(X_test_scaled)\n",
        "accuracy = accuracy_score(y_test, y_pred)\n",
        "\n",
        "print(f\"One-vs-One Classification Accuracy: {accuracy:.2f}\")"
      ],
      "metadata": {
        "colab": {
          "base_uri": "https://localhost:8080/"
        },
        "id": "Je-XY3m_Qi-M",
        "outputId": "3e4079c5-4dd8-4003-d0e3-f344a496c897"
      },
      "execution_count": null,
      "outputs": [
        {
          "output_type": "stream",
          "name": "stdout",
          "text": [
            "One-vs-One Classification Accuracy: 0.97\n"
          ]
        }
      ]
    },
    {
      "cell_type": "markdown",
      "source": [
        "**11.Write a Python program to train a Logistic Regression model and visualize the confusion matrix for binary\n",
        "classification**"
      ],
      "metadata": {
        "id": "hBRYHeXUQ-Vh"
      }
    },
    {
      "cell_type": "code",
      "source": [
        "import numpy as np\n",
        "import matplotlib.pyplot as plt\n",
        "import seaborn as sns\n",
        "from sklearn.datasets import make_classification\n",
        "from sklearn.linear_model import LogisticRegression\n",
        "from sklearn.model_selection import train_test_split\n",
        "from sklearn.preprocessing import StandardScaler\n",
        "from sklearn.metrics import confusion_matrix, ConfusionMatrixDisplay, accuracy_score\n",
        "\n",
        "# Step 1: Create synthetic binary classification dataset\n",
        "X, y = make_classification(n_samples=1000, n_features=10,\n",
        "                           n_informative=8, n_redundant=2,\n",
        "                           n_classes=2, random_state=42)\n",
        "\n",
        "# Step 2: Split into training and test sets\n",
        "X_train, X_test, y_train, y_test = train_test_split(X, y,\n",
        "                                                    test_size=0.2,\n",
        "                                                    random_state=42,\n",
        "                                                    stratify=y)\n",
        "\n",
        "# Step 3: Standardize the features\n",
        "scaler = StandardScaler()\n",
        "X_train_scaled = scaler.fit_transform(X_train)\n",
        "X_test_scaled = scaler.transform(X_test)\n",
        "\n",
        "# Step 4: Train Logistic Regression model\n",
        "model = LogisticRegression(solver='lbfgs', max_iter=1000)\n",
        "model.fit(X_train_scaled, y_train)\n",
        "\n",
        "# Step 5: Make predictions\n",
        "y_pred = model.predict(X_test_scaled)\n",
        "\n",
        "# Step 6: Compute Confusion Matrix\n",
        "cm = confusion_matrix(y_test, y_pred)\n",
        "accuracy = accuracy_score(y_test, y_pred)\n",
        "\n",
        "# Step 7: Visualize Confusion Matrix\n",
        "plt.figure(figsize=(6,4))\n",
        "sns.heatmap(cm, annot=True, fmt='d', cmap='Blues',\n",
        "            xticklabels=['Predicted 0', 'Predicted 1'],\n",
        "            yticklabels=['Actual 0', 'Actual 1'])\n",
        "plt.title(f'Confusion Matrix (Accuracy = {accuracy:.2f})')\n",
        "plt.xlabel('Predicted')\n",
        "plt.ylabel('Actual')\n",
        "plt.tight_layout()\n",
        "plt.show()"
      ],
      "metadata": {
        "colab": {
          "base_uri": "https://localhost:8080/",
          "height": 407
        },
        "id": "PN2H2SlGQ8Qx",
        "outputId": "a8ac8a62-403b-4111-f2a1-03934251a71e"
      },
      "execution_count": null,
      "outputs": [
        {
          "output_type": "display_data",
          "data": {
            "text/plain": [
              "<Figure size 600x400 with 2 Axes>"
            ],
            "image/png": "[encoded data removed]"
          },
          "metadata": {}
        }
      ]
    },
    {
      "cell_type": "markdown",
      "source": [
        "**12.Write a Python program to train a Logistic Regression model and evaluate its performance using Precision,\n",
        "Recall, and F1-Score**"
      ],
      "metadata": {
        "id": "yPBosZqM2SmI"
      }
    },
    {
      "cell_type": "code",
      "source": [
        "from sklearn.datasets import load_breast_cancer\n",
        "from sklearn.model_selection import train_test_split\n",
        "from sklearn.preprocessing import StandardScaler\n",
        "from sklearn.linear_model import LogisticRegression\n",
        "from sklearn.metrics import precision_score, recall_score, f1_score\n",
        "\n",
        "# Load and scale data\n",
        "data = load_breast_cancer()\n",
        "X = data.data\n",
        "y = data.target\n",
        "scaler = StandardScaler()\n",
        "X_scaled = scaler.fit_transform(X)\n",
        "\n",
        "# Split the dataset\n",
        "X_train, X_test, y_train, y_test = train_test_split(\n",
        "    X_scaled, y, test_size=0.3, random_state=42\n",
        ")\n",
        "\n",
        "# Train the model with updated parameters\n",
        "model = LogisticRegression(max_iter=1000, solver='liblinear')\n",
        "model.fit(X_train, y_train)\n",
        "\n",
        "# Make predictions\n",
        "y_pred = model.predict(X_test)\n",
        "\n",
        "# Evaluate performance\n",
        "precision = precision_score(y_test, y_pred)\n",
        "recall = recall_score(y_test, y_pred)\n",
        "f1 = f1_score(y_test, y_pred)\n",
        "\n",
        "# Print evaluation results\n",
        "print(f\"Precision: {precision:.4f}\")\n",
        "print(f\"Recall:    {recall:.4f}\")\n",
        "print(f\"F1-Score:  {f1:.4f}\")"
      ],
      "metadata": {
        "id": "jM1NsQ8-SBN9",
        "colab": {
          "base_uri": "https://localhost:8080/"
        },
        "outputId": "b1280a91-5542-4661-88ab-41e42ce768be"
      },
      "execution_count": 2,
      "outputs": [
        {
          "output_type": "stream",
          "name": "stdout",
          "text": [
            "Precision: 0.9907\n",
            "Recall:    0.9815\n",
            "F1-Score:  0.9860\n"
          ]
        }
      ]
    },
    {
      "cell_type": "markdown",
      "source": [
        "**13.Write a Python program to train a Logistic Regression model on imbalanced data and apply class weights to\n",
        "improve model performance**"
      ],
      "metadata": {
        "id": "gLQ1mjgk3lzF"
      }
    },
    {
      "cell_type": "code",
      "source": [
        "# Import necessary libraries\n",
        "import numpy as np\n",
        "import pandas as pd\n",
        "from sklearn.datasets import make_classification\n",
        "from sklearn.model_selection import train_test_split\n",
        "from sklearn.linear_model import LogisticRegression\n",
        "from sklearn.metrics import classification_report\n",
        "from sklearn.preprocessing import StandardScaler\n",
        "\n",
        "# Generate an imbalanced dataset\n",
        "X, y = make_classification(n_samples=1000, n_features=10, n_classes=2,\n",
        "                           weights=[0.9, 0.1], flip_y=0, random_state=42)\n",
        "\n",
        "# Scale the data for better convergence\n",
        "scaler = StandardScaler()\n",
        "X_scaled = scaler.fit_transform(X)\n",
        "\n",
        "# Split into training and testing sets\n",
        "X_train, X_test, y_train, y_test = train_test_split(\n",
        "    X_scaled, y, test_size=0.3, random_state=42\n",
        ")\n",
        "\n",
        "# Train logistic regression with balanced class weights\n",
        "model = LogisticRegression(class_weight='balanced', max_iter=1000, solver='liblinear')\n",
        "model.fit(X_train, y_train)\n",
        "\n",
        "# Predict and evaluate\n",
        "y_pred = model.predict(X_test)\n",
        "print(classification_report(y_test, y_pred, digits=4))"
      ],
      "metadata": {
        "colab": {
          "base_uri": "https://localhost:8080/"
        },
        "id": "UNEXPPy33lNR",
        "outputId": "4d8d616c-106b-44e4-96a5-aa9e776b8990"
      },
      "execution_count": 3,
      "outputs": [
        {
          "output_type": "stream",
          "name": "stdout",
          "text": [
            "              precision    recall  f1-score   support\n",
            "\n",
            "           0     0.9756    0.8989    0.9357       267\n",
            "           1     0.5000    0.8182    0.6207        33\n",
            "\n",
            "    accuracy                         0.8900       300\n",
            "   macro avg     0.7378    0.8585    0.7782       300\n",
            "weighted avg     0.9233    0.8900    0.9010       300\n",
            "\n"
          ]
        }
      ]
    },
    {
      "cell_type": "markdown",
      "source": [
        "**14.Write a Python program to train Logistic Regression on the Titanic dataset, handle missing values, and\n",
        "evaluate performance**"
      ],
      "metadata": {
        "id": "HP-_MeWP4Y8q"
      }
    },
    {
      "cell_type": "code",
      "source": [
        "# Import libraries\n",
        "import seaborn as sns\n",
        "import pandas as pd\n",
        "from sklearn.model_selection import train_test_split\n",
        "from sklearn.linear_model import LogisticRegression\n",
        "from sklearn.preprocessing import StandardScaler\n",
        "from sklearn.metrics import classification_report\n",
        "\n",
        "# Load Titanic dataset from seaborn\n",
        "df = sns.load_dataset(\"titanic\")\n",
        "\n",
        "# Drop rows with missing 'embarked' and 'fare'\n",
        "df = df.dropna(subset=['embarked', 'fare'])\n",
        "\n",
        "# Fill missing 'age' with median\n",
        "df['age'] = df['age'].fillna(df['age'].median())\n",
        "\n",
        "# Encode categorical variables\n",
        "df['sex'] = df['sex'].map({'male': 0, 'female': 1})\n",
        "df['embarked'] = df['embarked'].map({'C': 0, 'Q': 1, 'S': 2})\n",
        "df['class'] = df['class'].map({'First': 1, 'Second': 2, 'Third': 3})\n",
        "\n",
        "# Feature selection\n",
        "features = ['pclass', 'sex', 'age', 'sibsp', 'parch', 'fare', 'embarked']\n",
        "X = df[features]\n",
        "y = df['survived']\n",
        "\n",
        "# Handle any remaining missing values\n",
        "X = X.dropna()\n",
        "y = y.loc[X.index]\n",
        "\n",
        "# Scale features\n",
        "scaler = StandardScaler()\n",
        "X_scaled = scaler.fit_transform(X)\n",
        "\n",
        "# Train/test split\n",
        "X_train, X_test, y_train, y_test = train_test_split(\n",
        "    X_scaled, y, test_size=0.2, random_state=42\n",
        ")\n",
        "\n",
        "# Train Logistic Regression\n",
        "model = LogisticRegression(max_iter=1000)\n",
        "model.fit(X_train, y_train)\n",
        "\n",
        "# Predict and evaluate\n",
        "y_pred = model.predict(X_test)\n",
        "print(classification_report(y_test, y_pred, digits=4))"
      ],
      "metadata": {
        "colab": {
          "base_uri": "https://localhost:8080/"
        },
        "id": "Vt3mCMJ14Xb0",
        "outputId": "da485b45-864f-45d3-f2a4-52e52d0df611"
      },
      "execution_count": 4,
      "outputs": [
        {
          "output_type": "stream",
          "name": "stdout",
          "text": [
            "              precision    recall  f1-score   support\n",
            "\n",
            "           0     0.8400    0.7706    0.8038       109\n",
            "           1     0.6795    0.7681    0.7211        69\n",
            "\n",
            "    accuracy                         0.7697       178\n",
            "   macro avg     0.7597    0.7694    0.7625       178\n",
            "weighted avg     0.7778    0.7697    0.7718       178\n",
            "\n"
          ]
        }
      ]
    },
    {
      "cell_type": "markdown",
      "source": [
        "**15.Write a Python program to apply feature scaling (Standardization) before training a Logistic Regression\n",
        "model. Evaluate its accuracy and compare results with and without scaling**"
      ],
      "metadata": {
        "id": "Xb9hdjVh57og"
      }
    },
    {
      "cell_type": "code",
      "source": [
        "# Import necessary libraries\n",
        "import numpy as np\n",
        "import pandas as pd\n",
        "from sklearn.datasets import load_breast_cancer\n",
        "from sklearn.model_selection import train_test_split\n",
        "from sklearn.linear_model import LogisticRegression\n",
        "from sklearn.preprocessing import StandardScaler\n",
        "from sklearn.metrics import accuracy_score\n",
        "\n",
        "# Load dataset\n",
        "data = load_breast_cancer()\n",
        "X = data.data\n",
        "y = data.target\n",
        "\n",
        "# Split into train and test sets\n",
        "X_train, X_test, y_train, y_test = train_test_split(\n",
        "    X, y, test_size=0.3, random_state=42\n",
        ")\n",
        "\n",
        "# --- Model without scaling ---\n",
        "model_unscaled = LogisticRegression(max_iter=1000, solver='liblinear')\n",
        "model_unscaled.fit(X_train, y_train)\n",
        "y_pred_unscaled = model_unscaled.predict(X_test)\n",
        "accuracy_unscaled = accuracy_score(y_test, y_pred_unscaled)\n",
        "\n",
        "# --- Model with scaling ---\n",
        "scaler = StandardScaler()\n",
        "X_train_scaled = scaler.fit_transform(X_train)\n",
        "X_test_scaled = scaler.transform(X_test)\n",
        "\n",
        "model_scaled = LogisticRegression(max_iter=1000, solver='liblinear')\n",
        "model_scaled.fit(X_train_scaled, y_train)\n",
        "y_pred_scaled = model_scaled.predict(X_test_scaled)\n",
        "accuracy_scaled = accuracy_score(y_test, y_pred_scaled)\n",
        "\n",
        "# --- Results ---\n",
        "print(f\"Accuracy without scaling: {accuracy_unscaled:.4f}\")\n",
        "print(f\"Accuracy with scaling:    {accuracy_scaled:.4f}\")"
      ],
      "metadata": {
        "colab": {
          "base_uri": "https://localhost:8080/"
        },
        "id": "cgR3_hZR56Hm",
        "outputId": "2ad06416-caa4-4e1d-8e19-ffaed50eca0e"
      },
      "execution_count": 5,
      "outputs": [
        {
          "output_type": "stream",
          "name": "stdout",
          "text": [
            "Accuracy without scaling: 0.9649\n",
            "Accuracy with scaling:    0.9825\n"
          ]
        }
      ]
    },
    {
      "cell_type": "markdown",
      "source": [
        "**16.Write a Python program to train Logistic Regression and evaluate its performance using ROC-AUC score**"
      ],
      "metadata": {
        "id": "_6b17QD36M2n"
      }
    },
    {
      "cell_type": "code",
      "source": [
        "# Import required libraries\n",
        "import numpy as np\n",
        "import pandas as pd\n",
        "from sklearn.datasets import load_breast_cancer\n",
        "from sklearn.model_selection import train_test_split\n",
        "from sklearn.linear_model import LogisticRegression\n",
        "from sklearn.preprocessing import StandardScaler\n",
        "from sklearn.metrics import roc_auc_score\n",
        "\n",
        "# Load a sample dataset\n",
        "data = load_breast_cancer()\n",
        "X = data.data\n",
        "y = data.target\n",
        "\n",
        "# Split into train/test\n",
        "X_train, X_test, y_train, y_test = train_test_split(\n",
        "    X, y, test_size=0.3, random_state=42\n",
        ")\n",
        "\n",
        "# Feature scaling (recommended for logistic regression)\n",
        "scaler = StandardScaler()\n",
        "X_train_scaled = scaler.fit_transform(X_train)\n",
        "X_test_scaled = scaler.transform(X_test)\n",
        "\n",
        "# Train the Logistic Regression model\n",
        "model = LogisticRegression(max_iter=1000)\n",
        "model.fit(X_train_scaled, y_train)\n",
        "\n",
        "# Predict probabilities for the positive class\n",
        "y_proba = model.predict_proba(X_test_scaled)[:, 1]\n",
        "\n",
        "# Compute ROC-AUC score\n",
        "roc_auc = roc_auc_score(y_test, y_proba)\n",
        "print(f\"ROC-AUC Score: {roc_auc:.4f}\")"
      ],
      "metadata": {
        "colab": {
          "base_uri": "https://localhost:8080/"
        },
        "id": "4kMHrxkS6KE9",
        "outputId": "b43d59f4-66d0-42bc-9505-00fe72501505"
      },
      "execution_count": 6,
      "outputs": [
        {
          "output_type": "stream",
          "name": "stdout",
          "text": [
            "ROC-AUC Score: 0.9979\n"
          ]
        }
      ]
    },
    {
      "cell_type": "markdown",
      "source": [
        "**17.Write a Python program to train Logistic Regression using a custom learning rate (C=0.5) and evaluate\n",
        "accuracy?**"
      ],
      "metadata": {
        "id": "t5wUHkNV6e5O"
      }
    },
    {
      "cell_type": "code",
      "source": [
        "# Import libraries\n",
        "from sklearn.datasets import load_breast_cancer\n",
        "from sklearn.model_selection import train_test_split\n",
        "from sklearn.linear_model import LogisticRegression\n",
        "from sklearn.preprocessing import StandardScaler\n",
        "from sklearn.metrics import accuracy_score\n",
        "\n",
        "# Load dataset\n",
        "data = load_breast_cancer()\n",
        "X = data.data\n",
        "y = data.target\n",
        "\n",
        "# Train/test split\n",
        "X_train, X_test, y_train, y_test = train_test_split(\n",
        "    X, y, test_size=0.3, random_state=42\n",
        ")\n",
        "\n",
        "# Feature scaling for better performance\n",
        "scaler = StandardScaler()\n",
        "X_train_scaled = scaler.fit_transform(X_train)\n",
        "X_test_scaled = scaler.transform(X_test)\n",
        "\n",
        "# Train Logistic Regression with custom C\n",
        "model = LogisticRegression(C=0.5, max_iter=1000)\n",
        "model.fit(X_train_scaled, y_train)\n",
        "\n",
        "# Predict and evaluate\n",
        "y_pred = model.predict(X_test_scaled)\n",
        "accuracy = accuracy_score(y_test, y_pred)\n",
        "print(f\"Accuracy with C=0.5: {accuracy:.4f}\")"
      ],
      "metadata": {
        "colab": {
          "base_uri": "https://localhost:8080/"
        },
        "id": "N3LmLRPA6d0O",
        "outputId": "157fe1e4-dc65-4735-858b-90534bd6b2ed"
      },
      "execution_count": 7,
      "outputs": [
        {
          "output_type": "stream",
          "name": "stdout",
          "text": [
            "Accuracy with C=0.5: 0.9883\n"
          ]
        }
      ]
    },
    {
      "cell_type": "markdown",
      "source": [
        "**18.Write a Python program to train Logistic Regression and identify important features based on model\n",
        "coefficients**"
      ],
      "metadata": {
        "id": "gVYP4qMB6vXu"
      }
    },
    {
      "cell_type": "code",
      "source": [
        "# Import necessary libraries\n",
        "from sklearn.datasets import load_breast_cancer\n",
        "from sklearn.model_selection import train_test_split\n",
        "from sklearn.linear_model import LogisticRegression\n",
        "from sklearn.preprocessing import StandardScaler\n",
        "import pandas as pd\n",
        "\n",
        "# Load a sample dataset\n",
        "data = load_breast_cancer()\n",
        "X = data.data\n",
        "y = data.target\n",
        "feature_names = data.feature_names\n",
        "\n",
        "# Split into train/test sets\n",
        "X_train, X_test, y_train, y_test = train_test_split(\n",
        "    X, y, test_size=0.3, random_state=42\n",
        ")\n",
        "\n",
        "# Scale features for better convergence\n",
        "scaler = StandardScaler()\n",
        "X_train_scaled = scaler.fit_transform(X_train)\n",
        "X_test_scaled = scaler.transform(X_test)\n",
        "\n",
        "# Train Logistic Regression\n",
        "model = LogisticRegression(max_iter=1000)\n",
        "model.fit(X_train_scaled, y_train)\n",
        "\n",
        "# Get feature coefficients\n",
        "coefficients = model.coef_[0]\n",
        "feature_importance = pd.DataFrame({\n",
        "    'Feature': feature_names,\n",
        "    'Coefficient': coefficients\n",
        "})\n",
        "feature_importance['Absolute Importance'] = feature_importance['Coefficient'].abs()\n",
        "feature_importance = feature_importance.sort_values(\n",
        "    by='Absolute Importance', ascending=False\n",
        ")\n",
        "\n",
        "# Display top features\n",
        "print(\"Top Features Influencing Predictions:\")\n",
        "print(feature_importance.head(10).to_string(index=False))"
      ],
      "metadata": {
        "colab": {
          "base_uri": "https://localhost:8080/"
        },
        "id": "5MJ1bJcl6un-",
        "outputId": "4a2d70ca-7e4e-4a71-f3f2-da602100ccec"
      },
      "execution_count": 8,
      "outputs": [
        {
          "output_type": "stream",
          "name": "stdout",
          "text": [
            "Top Features Influencing Predictions:\n",
            "             Feature  Coefficient  Absolute Importance\n",
            "       worst texture    -1.291134             1.291134\n",
            "        radius error    -1.244185             1.244185\n",
            "      worst symmetry    -1.202497             1.202497\n",
            " mean concave points    -1.103646             1.103646\n",
            "     worst concavity    -0.974874             0.974874\n",
            "          area error    -0.868623             0.868623\n",
            "        worst radius    -0.814530             0.814530\n",
            "worst concave points    -0.808050             0.808050\n",
            "          worst area    -0.774047             0.774047\n",
            "      mean concavity    -0.747674             0.747674\n"
          ]
        }
      ]
    },
    {
      "cell_type": "markdown",
      "source": [
        "**19.Write a Python program to train Logistic Regression and evaluate its performance using Cohen’s Kappa\n",
        "Score**"
      ],
      "metadata": {
        "id": "MmJkhZOw7CBc"
      }
    },
    {
      "cell_type": "code",
      "source": [
        "# Import libraries\n",
        "from sklearn.datasets import load_breast_cancer\n",
        "from sklearn.model_selection import train_test_split\n",
        "from sklearn.linear_model import LogisticRegression\n",
        "from sklearn.preprocessing import StandardScaler\n",
        "from sklearn.metrics import cohen_kappa_score\n",
        "\n",
        "# Load dataset\n",
        "data = load_breast_cancer()\n",
        "X = data.data\n",
        "y = data.target\n",
        "\n",
        "# Train/test split\n",
        "X_train, X_test, y_train, y_test = train_test_split(\n",
        "    X, y, test_size=0.3, random_state=42\n",
        ")\n",
        "\n",
        "# Scale features\n",
        "scaler = StandardScaler()\n",
        "X_train_scaled = scaler.fit_transform(X_train)\n",
        "X_test_scaled = scaler.transform(X_test)\n",
        "\n",
        "# Train Logistic Regression\n",
        "model = LogisticRegression(max_iter=1000)\n",
        "model.fit(X_train_scaled, y_train)\n",
        "\n",
        "# Predict on test data\n",
        "y_pred = model.predict(X_test_scaled)\n",
        "\n",
        "# Evaluate with Cohen’s Kappa Score\n",
        "kappa_score = cohen_kappa_score(y_test, y_pred)\n",
        "print(f\"Cohen’s Kappa Score: {kappa_score:.4f}\")"
      ],
      "metadata": {
        "colab": {
          "base_uri": "https://localhost:8080/"
        },
        "id": "1vdCjR7w7Bmv",
        "outputId": "b51965df-cc27-4c9b-d2be-4c4342783f59"
      },
      "execution_count": 9,
      "outputs": [
        {
          "output_type": "stream",
          "name": "stdout",
          "text": [
            "Cohen’s Kappa Score: 0.9624\n"
          ]
        }
      ]
    },
    {
      "cell_type": "markdown",
      "source": [
        "**20.Write a Python program to train Logistic Regression and visualize the Precision-Recall Curve for binary\n",
        "classification**"
      ],
      "metadata": {
        "id": "tkURKfZc7PUa"
      }
    },
    {
      "cell_type": "code",
      "source": [
        "# Import required libraries\n",
        "from sklearn.datasets import load_breast_cancer\n",
        "from sklearn.linear_model import LogisticRegression\n",
        "from sklearn.metrics import precision_recall_curve, PrecisionRecallDisplay\n",
        "from sklearn.model_selection import train_test_split\n",
        "from sklearn.preprocessing import StandardScaler\n",
        "import matplotlib.pyplot as plt\n",
        "\n",
        "# Load sample dataset\n",
        "data = load_breast_cancer()\n",
        "X = data.data\n",
        "y = data.target\n",
        "\n",
        "# Train-test split\n",
        "X_train, X_test, y_train, y_test = train_test_split(\n",
        "    X, y, test_size=0.3, random_state=42\n",
        ")\n",
        "\n",
        "# Feature scaling\n",
        "scaler = StandardScaler()\n",
        "X_train_scaled = scaler.fit_transform(X_train)\n",
        "X_test_scaled = scaler.transform(X_test)\n",
        "\n",
        "# Train Logistic Regression model\n",
        "model = LogisticRegression(max_iter=1000)\n",
        "model.fit(X_train_scaled, y_train)\n",
        "\n",
        "# Predict probability scores for the positive class\n",
        "y_scores = model.predict_proba(X_test_scaled)[:, 1]\n",
        "\n",
        "# Compute precision-recall pairs\n",
        "precision, recall, thresholds = precision_recall_curve(y_test, y_scores)\n",
        "\n",
        "# Visualize the Precision-Recall curve\n",
        "disp = PrecisionRecallDisplay(precision=precision, recall=recall)\n",
        "disp.plot()\n",
        "plt.title(\"Precision-Recall Curve for Logistic Regression\")\n",
        "plt.grid(True)\n",
        "plt.show()"
      ],
      "metadata": {
        "colab": {
          "base_uri": "https://localhost:8080/",
          "height": 472
        },
        "id": "Krt8cPgm7O45",
        "outputId": "2871a445-de4e-4f7f-d9f7-ca81467009f8"
      },
      "execution_count": 10,
      "outputs": [
        {
          "output_type": "display_data",
          "data": {
            "text/plain": [
              "<Figure size 640x480 with 1 Axes>"
            ],
            "image/png": "[encoded data removed]"
          },
          "metadata": {}
        }
      ]
    },
    {
      "cell_type": "markdown",
      "source": [
        "**21.Write a Python program to train Logistic Regression with different solvers (liblinear, saga, lbfgs) and compare\n",
        "their accuracy**"
      ],
      "metadata": {
        "id": "oSqm4VCbU3m2"
      }
    },
    {
      "cell_type": "code",
      "source": [
        "# Import necessary libraries\n",
        "from sklearn.datasets import load_breast_cancer\n",
        "from sklearn.model_selection import train_test_split\n",
        "from sklearn.linear_model import LogisticRegression\n",
        "from sklearn.preprocessing import StandardScaler\n",
        "from sklearn.metrics import accuracy_score\n",
        "\n",
        "# Load sample dataset\n",
        "data = load_breast_cancer()\n",
        "X = data.data\n",
        "y = data.target\n",
        "\n",
        "# Split dataset\n",
        "X_train, X_test, y_train, y_test = train_test_split(\n",
        "    X, y, test_size=0.3, random_state=42\n",
        ")\n",
        "\n",
        "# Standardize features\n",
        "scaler = StandardScaler()\n",
        "X_train_scaled = scaler.fit_transform(X_train)\n",
        "X_test_scaled = scaler.transform(X_test)\n",
        "\n",
        "# Define solvers to test\n",
        "solvers = ['liblinear', 'saga', 'lbfgs']\n",
        "results = {}\n",
        "\n",
        "# Train and evaluate Logistic Regression with each solver\n",
        "for solver in solvers:\n",
        "    model = LogisticRegression(solver=solver, max_iter=1000)\n",
        "    model.fit(X_train_scaled, y_train)\n",
        "    y_pred = model.predict(X_test_scaled)\n",
        "    acc = accuracy_score(y_test, y_pred)\n",
        "    results[solver] = acc\n",
        "\n",
        "# Display results\n",
        "print(\"Solver Accuracy Comparison:\")\n",
        "for solver, acc in results.items():\n",
        "    print(f\"{solver:<10}: {acc:.4f}\")"
      ],
      "metadata": {
        "colab": {
          "base_uri": "https://localhost:8080/"
        },
        "id": "CDSplPo0VF5L",
        "outputId": "77778bcb-07f6-4b8b-a416-261bc45d103c"
      },
      "execution_count": 1,
      "outputs": [
        {
          "output_type": "stream",
          "name": "stdout",
          "text": [
            "Solver Accuracy Comparison:\n",
            "liblinear : 0.9825\n",
            "saga      : 0.9825\n",
            "lbfgs     : 0.9825\n"
          ]
        }
      ]
    },
    {
      "cell_type": "markdown",
      "source": [
        "**22.Write a Python program to train Logistic Regression and evaluate its performance using Matthews\n",
        "Correlation Coefficient (MCC)**"
      ],
      "metadata": {
        "id": "GDfPpAXYU_gh"
      }
    },
    {
      "cell_type": "code",
      "source": [
        "# Import necessary libraries\n",
        "from sklearn.datasets import load_breast_cancer\n",
        "from sklearn.model_selection import train_test_split\n",
        "from sklearn.linear_model import LogisticRegression\n",
        "from sklearn.preprocessing import StandardScaler\n",
        "from sklearn.metrics import matthews_corrcoef\n",
        "\n",
        "# Load dataset\n",
        "data = load_breast_cancer()\n",
        "X = data.data\n",
        "y = data.target\n",
        "\n",
        "# Split into train/test sets\n",
        "X_train, X_test, y_train, y_test = train_test_split(\n",
        "    X, y, test_size=0.3, random_state=42\n",
        ")\n",
        "\n",
        "# Standardize features\n",
        "scaler = StandardScaler()\n",
        "X_train_scaled = scaler.fit_transform(X_train)\n",
        "X_test_scaled = scaler.transform(X_test)\n",
        "\n",
        "# Train Logistic Regression\n",
        "model = LogisticRegression(max_iter=1000)\n",
        "model.fit(X_train_scaled, y_train)\n",
        "\n",
        "# Predict on test data\n",
        "y_pred = model.predict(X_test_scaled)\n",
        "\n",
        "# Evaluate using Matthews Correlation Coefficient\n",
        "mcc_score = matthews_corrcoef(y_test, y_pred)\n",
        "print(f\"Matthews Correlation Coefficient (MCC): {mcc_score:.4f}\")"
      ],
      "metadata": {
        "colab": {
          "base_uri": "https://localhost:8080/"
        },
        "id": "fnj102xeVGYK",
        "outputId": "80ced4fe-627f-4451-fab5-0a388b3ba392"
      },
      "execution_count": 2,
      "outputs": [
        {
          "output_type": "stream",
          "name": "stdout",
          "text": [
            "Matthews Correlation Coefficient (MCC): 0.9625\n"
          ]
        }
      ]
    },
    {
      "cell_type": "markdown",
      "source": [
        "**23.Write a Python program to train Logistic Regression on both raw and standardized data. Compare their\n",
        "accuracy to see the impact of feature scaling**\n",
        "\n"
      ],
      "metadata": {
        "id": "_0b-OtrLVFDO"
      }
    },
    {
      "cell_type": "code",
      "source": [
        "# Import required libraries\n",
        "from sklearn.datasets import load_breast_cancer\n",
        "from sklearn.model_selection import train_test_split\n",
        "from sklearn.linear_model import LogisticRegression\n",
        "from sklearn.preprocessing import StandardScaler\n",
        "from sklearn.metrics import accuracy_score\n",
        "\n",
        "# Load dataset\n",
        "data = load_breast_cancer()\n",
        "X = data.data\n",
        "y = data.target\n",
        "\n",
        "# Train-test split\n",
        "X_train, X_test, y_train, y_test = train_test_split(\n",
        "    X, y, test_size=0.3, random_state=42\n",
        ")\n",
        "\n",
        "# --- Logistic Regression on raw data ---\n",
        "model_raw = LogisticRegression(max_iter=5000, solver='lbfgs')\n",
        "model_raw.fit(X_train, y_train)\n",
        "y_pred_raw = model_raw.predict(X_test)\n",
        "acc_raw = accuracy_score(y_test, y_pred_raw)\n",
        "\n",
        "# --- Feature scaling ---\n",
        "scaler = StandardScaler()\n",
        "X_train_scaled = scaler.fit_transform(X_train)\n",
        "X_test_scaled = scaler.transform(X_test)\n",
        "\n",
        "# --- Logistic Regression on scaled data ---\n",
        "model_scaled = LogisticRegression(max_iter=5000, solver='lbfgs')\n",
        "model_scaled.fit(X_train_scaled, y_train)\n",
        "y_pred_scaled = model_scaled.predict(X_test_scaled)\n",
        "acc_scaled = accuracy_score(y_test, y_pred_scaled)\n",
        "\n",
        "# --- Print comparison ---\n",
        "print(f\"Accuracy on raw data:          {acc_raw:.4f}\")\n",
        "print(f\"Accuracy on standardized data: {acc_scaled:.4f}\")"
      ],
      "metadata": {
        "colab": {
          "base_uri": "https://localhost:8080/"
        },
        "id": "df61v61oVR7L",
        "outputId": "fb4ca84b-e974-4f09-eab8-dc523b1f5e05"
      },
      "execution_count": 3,
      "outputs": [
        {
          "output_type": "stream",
          "name": "stdout",
          "text": [
            "Accuracy on raw data:          0.9766\n",
            "Accuracy on standardized data: 0.9825\n"
          ]
        }
      ]
    },
    {
      "cell_type": "markdown",
      "source": [
        "**24.Write a Python program to train Logistic Regression and find the optimal C (regularization strength) using\n",
        "cross-validation**"
      ],
      "metadata": {
        "id": "LL33tGHvVQgg"
      }
    },
    {
      "cell_type": "code",
      "source": [
        "# Import necessary libraries\n",
        "from sklearn.datasets import load_breast_cancer\n",
        "from sklearn.model_selection import train_test_split, GridSearchCV\n",
        "from sklearn.linear_model import LogisticRegression\n",
        "from sklearn.preprocessing import StandardScaler\n",
        "from sklearn.metrics import accuracy_score\n",
        "import numpy as np\n",
        "\n",
        "# Load dataset\n",
        "data = load_breast_cancer()\n",
        "X = data.data\n",
        "y = data.target\n",
        "\n",
        "# Train-test split\n",
        "X_train, X_test, y_train, y_test = train_test_split(\n",
        "    X, y, test_size=0.3, random_state=42\n",
        ")\n",
        "\n",
        "# Feature scaling\n",
        "scaler = StandardScaler()\n",
        "X_train_scaled = scaler.fit_transform(X_train)\n",
        "X_test_scaled = scaler.transform(X_test)\n",
        "\n",
        "# Define parameter grid for C\n",
        "param_grid = {'C': np.logspace(-3, 3, 10)}\n",
        "\n",
        "# GridSearch with cross-validation\n",
        "grid = GridSearchCV(LogisticRegression(max_iter=1000), param_grid, cv=5)\n",
        "grid.fit(X_train_scaled, y_train)\n",
        "\n",
        "# Best parameter and accuracy\n",
        "best_C = grid.best_params_['C']\n",
        "best_model = grid.best_estimator_\n",
        "y_pred = best_model.predict(X_test_scaled)\n",
        "accuracy = accuracy_score(y_test, y_pred)\n",
        "\n",
        "print(f\"Optimal C value: {best_C}\")\n",
        "print(f\"Accuracy with optimal C: {accuracy:.4f}\")"
      ],
      "metadata": {
        "colab": {
          "base_uri": "https://localhost:8080/"
        },
        "id": "xEaKs4g27f_z",
        "outputId": "c6a4b4e4-9b2c-46d9-e0cc-7905746af5b0"
      },
      "execution_count": 4,
      "outputs": [
        {
          "output_type": "stream",
          "name": "stdout",
          "text": [
            "Optimal C value: 2.154434690031882\n",
            "Accuracy with optimal C: 0.9825\n"
          ]
        }
      ]
    },
    {
      "cell_type": "markdown",
      "source": [
        "**25.Write a Python program to train Logistic Regression, save the trained model using joblib, and load it again to\n",
        "make predictions.**"
      ],
      "metadata": {
        "id": "HOuwf0dsVfbL"
      }
    },
    {
      "cell_type": "code",
      "source": [
        "# Import necessary libraries\n",
        "from sklearn.datasets import load_breast_cancer\n",
        "from sklearn.model_selection import train_test_split\n",
        "from sklearn.linear_model import LogisticRegression\n",
        "from sklearn.preprocessing import StandardScaler\n",
        "from sklearn.metrics import accuracy_score\n",
        "import joblib\n",
        "\n",
        "# Step 1: Load dataset\n",
        "data = load_breast_cancer()\n",
        "X = data.data\n",
        "y = data.target\n",
        "\n",
        "# Step 2: Train-test split\n",
        "X_train, X_test, y_train, y_test = train_test_split(\n",
        "    X, y, test_size=0.3, random_state=42\n",
        ")\n",
        "\n",
        "# Step 3: Feature scaling\n",
        "scaler = StandardScaler()\n",
        "X_train_scaled = scaler.fit_transform(X_train)\n",
        "X_test_scaled = scaler.transform(X_test)\n",
        "\n",
        "# Step 4: Train Logistic Regression model\n",
        "model = LogisticRegression(max_iter=1000)\n",
        "model.fit(X_train_scaled, y_train)\n",
        "\n",
        "# Step 5: Save model and scaler using joblib\n",
        "joblib.dump(model, 'logistic_model.pkl')\n",
        "joblib.dump(scaler, 'scaler.pkl')\n",
        "\n",
        "print(\" Model and scaler saved.\")\n",
        "\n",
        "# Step 6: Load model and scaler\n",
        "loaded_model = joblib.load('logistic_model.pkl')\n",
        "loaded_scaler = joblib.load('scaler.pkl')\n",
        "\n",
        "# Step 7: Use loaded objects to make predictions\n",
        "X_new_scaled = loaded_scaler.transform(X_test)\n",
        "y_pred = loaded_model.predict(X_new_scaled)\n",
        "\n",
        "# Step 8: Evaluate predictions\n",
        "accuracy = accuracy_score(y_test, y_pred)\n",
        "print(f\"Accuracy after reloading: {accuracy:.4f}\")"
      ],
      "metadata": {
        "colab": {
          "base_uri": "https://localhost:8080/"
        },
        "id": "rBOmlNBWVlVP",
        "outputId": "8c4b5263-5806-4d99-c2d4-fa1fc0523f16"
      },
      "execution_count": 5,
      "outputs": [
        {
          "output_type": "stream",
          "name": "stdout",
          "text": [
            " Model and scaler saved.\n",
            "Accuracy after reloading: 0.9825\n"
          ]
        }
      ]
    },
    {
      "cell_type": "code",
      "source": [],
      "metadata": {
        "id": "6PtAOO_DYF7N"
      },
      "execution_count": null,
      "outputs": []
    }
  ]
}